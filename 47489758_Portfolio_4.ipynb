{
 "cells": [
  {
   "cell_type": "markdown",
   "id": "42d07ef4",
   "metadata": {},
   "source": [
    "## Introduction\n",
    "Approximately 280 million people in the world have depression (Global Health Data Exchange, 2023). Music therapy has been proven to improve depression (Kishita N, Backhouse T, Mioshi E., 2020).\n",
    "\n",
    "An online survey has been conducted by Catherine Rasgaitis via Google forms to observe the effects of music on different mental health issues like depression, anxiety, OCD and insomnia. Variables like the individual's favorite genre of music, how frequent they listened to each genre of music and the number of hours they listened to music each day were recorded. The data was collected by posting the google form on different Reddit forums, Discord servers, and social media platforms. The form was also advertised in libraries, parks, and other public locations using posters and business cards.\n",
    "\n",
    "I have collected this dataset from kaggle using the following link:\n",
    "https://www.kaggle.com/datasets/catherinerasgaitis/mxmh-survey-results/data\n",
    "\n",
    "I have used this data to train a model which predicts whether an individual feels like music has an effect on their mental health based on 30 variables including their primary streaming service, number of hours listened to music, age, favourite genre, whether they listen to music in a foreign language or not etc. "
   ]
  },
  {
   "cell_type": "markdown",
   "id": "4f1fb070",
   "metadata": {},
   "source": [
    "## Variable descriprions\n",
    "\n",
    "1. Timestamp : time when the survey was started\n",
    "2. Age\n",
    "3. Primary streaming service\n",
    "4. Hours per day : number of hours spent listening to music per day\n",
    "5. While working : whether the individual listens to music when working or not\n",
    "6. Instrumentalist : whether the individual is an instrumentalist or not\n",
    "7. Composer : whether the individual is a composer or not\n",
    "8. Fav genre : favorite genre of music\n",
    "9. Exploratory : whether the individual explores different kinds of music\n",
    "10. Foreign languages : whether the individual listens to music in a foreign language or not\n",
    "11. BPM : beats per minute of the music \n",
    "12. Frequency[Classical] : how often they listen to classical music\n",
    "13. Frequency[Country] : how often they listen to country music\n",
    "14. Frequency[EDM] : how often they listen to EDM \n",
    "15. Frequency[Folk] : how often they listen to folk music\n",
    "16. Frequency[Gospel] : how often they listen to gospel\n",
    "17. Frequency[Hip hop] : how often they listen to Hip hop\n",
    "18. Frequency[Jazz]: how often they listen to jazz\n",
    "19. Frequency[K pop] : how often they listen to K pop\n",
    "20. Frequency[Latin] : how often they listen to latin music\n",
    "21. Frequency[Lofi] : how often they listen to Lofi\n",
    "22. Frequency[Metal] : how often they listen to metal\n",
    "23. Frequency[Pop] : how often they listen to pop\n",
    "24. Frequency[R&B] : how often they listen to R&B\n",
    "25. Frequency[Rap] : how often they listen to rap\n",
    "26. Frequency[Rock] : how often they listen to rock\n",
    "27. Frequency[Video game music] : how often they listen to video game music\n",
    "28. Anxiety : how much anxiety they have on a scale of 1-10\n",
    "29. Depression : how much depression they have on a scale of 1-10\n",
    "30. Insomnia : how much insomnia they have on a scale of 1-10\n",
    "31. OCD : how much OCD they have on a scale of 1-10\n",
    "32. Music Effects : their perception of whether music has an effect on their mental health or not\n",
    "33. Permissions : consent for the survey"
   ]
  },
  {
   "cell_type": "markdown",
   "id": "e3bfa6a5",
   "metadata": {},
   "source": [
    "## Importing libraries"
   ]
  },
  {
   "cell_type": "code",
   "execution_count": 42,
   "id": "0eafa1b0",
   "metadata": {},
   "outputs": [],
   "source": [
    "import pandas as pd\n",
    "import numpy as np\n",
    "import os\n",
    "from sklearn.preprocessing import OrdinalEncoder\n",
    "from sklearn.model_selection import train_test_split\n",
    "from sklearn.linear_model import LogisticRegression\n",
    "from sklearn.metrics import accuracy_score\n",
    "from sklearn.feature_selection import RFE\n",
    "from sklearn.neighbors import KNeighborsClassifier\n",
    "from sklearn.model_selection import GridSearchCV\n",
    "from sklearn.model_selection import cross_val_score\n",
    "from sklearn.naive_bayes import GaussianNB\n",
    "from sklearn.metrics import confusion_matrix\n",
    "\n",
    "import warnings\n",
    "import seaborn as sns\n",
    "import matplotlib.pylab as plt\n",
    "\n",
    "%matplotlib inline"
   ]
  },
  {
   "cell_type": "code",
   "execution_count": 43,
   "id": "8e85146b",
   "metadata": {},
   "outputs": [
    {
     "data": {
      "text/html": [
       "<div>\n",
       "<style scoped>\n",
       "    .dataframe tbody tr th:only-of-type {\n",
       "        vertical-align: middle;\n",
       "    }\n",
       "\n",
       "    .dataframe tbody tr th {\n",
       "        vertical-align: top;\n",
       "    }\n",
       "\n",
       "    .dataframe thead th {\n",
       "        text-align: right;\n",
       "    }\n",
       "</style>\n",
       "<table border=\"1\" class=\"dataframe\">\n",
       "  <thead>\n",
       "    <tr style=\"text-align: right;\">\n",
       "      <th></th>\n",
       "      <th>Timestamp</th>\n",
       "      <th>Age</th>\n",
       "      <th>Primary streaming service</th>\n",
       "      <th>Hours per day</th>\n",
       "      <th>While working</th>\n",
       "      <th>Instrumentalist</th>\n",
       "      <th>Composer</th>\n",
       "      <th>Fav genre</th>\n",
       "      <th>Exploratory</th>\n",
       "      <th>Foreign languages</th>\n",
       "      <th>...</th>\n",
       "      <th>Frequency [R&amp;B]</th>\n",
       "      <th>Frequency [Rap]</th>\n",
       "      <th>Frequency [Rock]</th>\n",
       "      <th>Frequency [Video game music]</th>\n",
       "      <th>Anxiety</th>\n",
       "      <th>Depression</th>\n",
       "      <th>Insomnia</th>\n",
       "      <th>OCD</th>\n",
       "      <th>Music effects</th>\n",
       "      <th>Permissions</th>\n",
       "    </tr>\n",
       "  </thead>\n",
       "  <tbody>\n",
       "    <tr>\n",
       "      <th>0</th>\n",
       "      <td>8/27/2022 19:29:02</td>\n",
       "      <td>18.0</td>\n",
       "      <td>Spotify</td>\n",
       "      <td>3.0</td>\n",
       "      <td>Yes</td>\n",
       "      <td>Yes</td>\n",
       "      <td>Yes</td>\n",
       "      <td>Latin</td>\n",
       "      <td>Yes</td>\n",
       "      <td>Yes</td>\n",
       "      <td>...</td>\n",
       "      <td>Sometimes</td>\n",
       "      <td>Very frequently</td>\n",
       "      <td>Never</td>\n",
       "      <td>Sometimes</td>\n",
       "      <td>3.0</td>\n",
       "      <td>0.0</td>\n",
       "      <td>1.0</td>\n",
       "      <td>0.0</td>\n",
       "      <td>NaN</td>\n",
       "      <td>I understand.</td>\n",
       "    </tr>\n",
       "    <tr>\n",
       "      <th>1</th>\n",
       "      <td>8/27/2022 19:57:31</td>\n",
       "      <td>63.0</td>\n",
       "      <td>Pandora</td>\n",
       "      <td>1.5</td>\n",
       "      <td>Yes</td>\n",
       "      <td>No</td>\n",
       "      <td>No</td>\n",
       "      <td>Rock</td>\n",
       "      <td>Yes</td>\n",
       "      <td>No</td>\n",
       "      <td>...</td>\n",
       "      <td>Sometimes</td>\n",
       "      <td>Rarely</td>\n",
       "      <td>Very frequently</td>\n",
       "      <td>Rarely</td>\n",
       "      <td>7.0</td>\n",
       "      <td>2.0</td>\n",
       "      <td>2.0</td>\n",
       "      <td>1.0</td>\n",
       "      <td>NaN</td>\n",
       "      <td>I understand.</td>\n",
       "    </tr>\n",
       "    <tr>\n",
       "      <th>2</th>\n",
       "      <td>8/27/2022 21:28:18</td>\n",
       "      <td>18.0</td>\n",
       "      <td>Spotify</td>\n",
       "      <td>4.0</td>\n",
       "      <td>No</td>\n",
       "      <td>No</td>\n",
       "      <td>No</td>\n",
       "      <td>Video game music</td>\n",
       "      <td>No</td>\n",
       "      <td>Yes</td>\n",
       "      <td>...</td>\n",
       "      <td>Never</td>\n",
       "      <td>Rarely</td>\n",
       "      <td>Rarely</td>\n",
       "      <td>Very frequently</td>\n",
       "      <td>7.0</td>\n",
       "      <td>7.0</td>\n",
       "      <td>10.0</td>\n",
       "      <td>2.0</td>\n",
       "      <td>No effect</td>\n",
       "      <td>I understand.</td>\n",
       "    </tr>\n",
       "    <tr>\n",
       "      <th>3</th>\n",
       "      <td>8/27/2022 21:40:40</td>\n",
       "      <td>61.0</td>\n",
       "      <td>YouTube Music</td>\n",
       "      <td>2.5</td>\n",
       "      <td>Yes</td>\n",
       "      <td>No</td>\n",
       "      <td>Yes</td>\n",
       "      <td>Jazz</td>\n",
       "      <td>Yes</td>\n",
       "      <td>Yes</td>\n",
       "      <td>...</td>\n",
       "      <td>Sometimes</td>\n",
       "      <td>Never</td>\n",
       "      <td>Never</td>\n",
       "      <td>Never</td>\n",
       "      <td>9.0</td>\n",
       "      <td>7.0</td>\n",
       "      <td>3.0</td>\n",
       "      <td>3.0</td>\n",
       "      <td>Improve</td>\n",
       "      <td>I understand.</td>\n",
       "    </tr>\n",
       "    <tr>\n",
       "      <th>4</th>\n",
       "      <td>8/27/2022 21:54:47</td>\n",
       "      <td>18.0</td>\n",
       "      <td>Spotify</td>\n",
       "      <td>4.0</td>\n",
       "      <td>Yes</td>\n",
       "      <td>No</td>\n",
       "      <td>No</td>\n",
       "      <td>R&amp;B</td>\n",
       "      <td>Yes</td>\n",
       "      <td>No</td>\n",
       "      <td>...</td>\n",
       "      <td>Very frequently</td>\n",
       "      <td>Very frequently</td>\n",
       "      <td>Never</td>\n",
       "      <td>Rarely</td>\n",
       "      <td>7.0</td>\n",
       "      <td>2.0</td>\n",
       "      <td>5.0</td>\n",
       "      <td>9.0</td>\n",
       "      <td>Improve</td>\n",
       "      <td>I understand.</td>\n",
       "    </tr>\n",
       "  </tbody>\n",
       "</table>\n",
       "<p>5 rows × 33 columns</p>\n",
       "</div>"
      ],
      "text/plain": [
       "            Timestamp   Age Primary streaming service  Hours per day  \\\n",
       "0  8/27/2022 19:29:02  18.0                   Spotify            3.0   \n",
       "1  8/27/2022 19:57:31  63.0                   Pandora            1.5   \n",
       "2  8/27/2022 21:28:18  18.0                   Spotify            4.0   \n",
       "3  8/27/2022 21:40:40  61.0             YouTube Music            2.5   \n",
       "4  8/27/2022 21:54:47  18.0                   Spotify            4.0   \n",
       "\n",
       "  While working Instrumentalist Composer         Fav genre Exploratory  \\\n",
       "0           Yes             Yes      Yes             Latin         Yes   \n",
       "1           Yes              No       No              Rock         Yes   \n",
       "2            No              No       No  Video game music          No   \n",
       "3           Yes              No      Yes              Jazz         Yes   \n",
       "4           Yes              No       No               R&B         Yes   \n",
       "\n",
       "  Foreign languages  ...  Frequency [R&B]  Frequency [Rap] Frequency [Rock]  \\\n",
       "0               Yes  ...        Sometimes  Very frequently            Never   \n",
       "1                No  ...        Sometimes           Rarely  Very frequently   \n",
       "2               Yes  ...            Never           Rarely           Rarely   \n",
       "3               Yes  ...        Sometimes            Never            Never   \n",
       "4                No  ...  Very frequently  Very frequently            Never   \n",
       "\n",
       "  Frequency [Video game music] Anxiety Depression Insomnia  OCD Music effects  \\\n",
       "0                    Sometimes     3.0        0.0      1.0  0.0           NaN   \n",
       "1                       Rarely     7.0        2.0      2.0  1.0           NaN   \n",
       "2              Very frequently     7.0        7.0     10.0  2.0     No effect   \n",
       "3                        Never     9.0        7.0      3.0  3.0       Improve   \n",
       "4                       Rarely     7.0        2.0      5.0  9.0       Improve   \n",
       "\n",
       "     Permissions  \n",
       "0  I understand.  \n",
       "1  I understand.  \n",
       "2  I understand.  \n",
       "3  I understand.  \n",
       "4  I understand.  \n",
       "\n",
       "[5 rows x 33 columns]"
      ]
     },
     "execution_count": 43,
     "metadata": {},
     "output_type": "execute_result"
    }
   ],
   "source": [
    "#importing data\n",
    "\n",
    "data = pd.read_csv('mxmh_survey_results.csv')\n",
    "data.head()"
   ]
  },
  {
   "cell_type": "code",
   "execution_count": 46,
   "id": "073bb48f",
   "metadata": {},
   "outputs": [
    {
     "name": "stdout",
     "output_type": "stream",
     "text": [
      "The number of rows and columns of the raw data: (736, 33)\n"
     ]
    }
   ],
   "source": [
    "#shape of the data\n",
    "\n",
    "print(\"The number of rows and columns of the raw data:\", data.shape)"
   ]
  },
  {
   "cell_type": "code",
   "execution_count": 47,
   "id": "850b3914",
   "metadata": {},
   "outputs": [
    {
     "name": "stdout",
     "output_type": "stream",
     "text": [
      "<class 'pandas.core.frame.DataFrame'>\n",
      "RangeIndex: 736 entries, 0 to 735\n",
      "Data columns (total 33 columns):\n",
      " #   Column                        Non-Null Count  Dtype  \n",
      "---  ------                        --------------  -----  \n",
      " 0   Timestamp                     736 non-null    object \n",
      " 1   Age                           735 non-null    float64\n",
      " 2   Primary streaming service     735 non-null    object \n",
      " 3   Hours per day                 736 non-null    float64\n",
      " 4   While working                 733 non-null    object \n",
      " 5   Instrumentalist               732 non-null    object \n",
      " 6   Composer                      735 non-null    object \n",
      " 7   Fav genre                     736 non-null    object \n",
      " 8   Exploratory                   736 non-null    object \n",
      " 9   Foreign languages             732 non-null    object \n",
      " 10  BPM                           629 non-null    float64\n",
      " 11  Frequency [Classical]         736 non-null    object \n",
      " 12  Frequency [Country]           736 non-null    object \n",
      " 13  Frequency [EDM]               736 non-null    object \n",
      " 14  Frequency [Folk]              736 non-null    object \n",
      " 15  Frequency [Gospel]            736 non-null    object \n",
      " 16  Frequency [Hip hop]           736 non-null    object \n",
      " 17  Frequency [Jazz]              736 non-null    object \n",
      " 18  Frequency [K pop]             736 non-null    object \n",
      " 19  Frequency [Latin]             736 non-null    object \n",
      " 20  Frequency [Lofi]              736 non-null    object \n",
      " 21  Frequency [Metal]             736 non-null    object \n",
      " 22  Frequency [Pop]               736 non-null    object \n",
      " 23  Frequency [R&B]               736 non-null    object \n",
      " 24  Frequency [Rap]               736 non-null    object \n",
      " 25  Frequency [Rock]              736 non-null    object \n",
      " 26  Frequency [Video game music]  736 non-null    object \n",
      " 27  Anxiety                       736 non-null    float64\n",
      " 28  Depression                    736 non-null    float64\n",
      " 29  Insomnia                      736 non-null    float64\n",
      " 30  OCD                           736 non-null    float64\n",
      " 31  Music effects                 728 non-null    object \n",
      " 32  Permissions                   736 non-null    object \n",
      "dtypes: float64(7), object(26)\n",
      "memory usage: 189.9+ KB\n"
     ]
    }
   ],
   "source": [
    "#data description\n",
    "data.info()"
   ]
  },
  {
   "cell_type": "code",
   "execution_count": 48,
   "id": "087aa32e",
   "metadata": {},
   "outputs": [
    {
     "data": {
      "text/plain": [
       "Timestamp                         0\n",
       "Age                               1\n",
       "Primary streaming service         1\n",
       "Hours per day                     0\n",
       "While working                     3\n",
       "Instrumentalist                   4\n",
       "Composer                          1\n",
       "Fav genre                         0\n",
       "Exploratory                       0\n",
       "Foreign languages                 4\n",
       "BPM                             107\n",
       "Frequency [Classical]             0\n",
       "Frequency [Country]               0\n",
       "Frequency [EDM]                   0\n",
       "Frequency [Folk]                  0\n",
       "Frequency [Gospel]                0\n",
       "Frequency [Hip hop]               0\n",
       "Frequency [Jazz]                  0\n",
       "Frequency [K pop]                 0\n",
       "Frequency [Latin]                 0\n",
       "Frequency [Lofi]                  0\n",
       "Frequency [Metal]                 0\n",
       "Frequency [Pop]                   0\n",
       "Frequency [R&B]                   0\n",
       "Frequency [Rap]                   0\n",
       "Frequency [Rock]                  0\n",
       "Frequency [Video game music]      0\n",
       "Anxiety                           0\n",
       "Depression                        0\n",
       "Insomnia                          0\n",
       "OCD                               0\n",
       "Music effects                     8\n",
       "Permissions                       0\n",
       "dtype: int64"
      ]
     },
     "execution_count": 48,
     "metadata": {},
     "output_type": "execute_result"
    }
   ],
   "source": [
    "# calculating the number of missing values\n",
    "data.isnull().sum()"
   ]
  },
  {
   "cell_type": "code",
   "execution_count": 50,
   "id": "5cf089d8",
   "metadata": {},
   "outputs": [
    {
     "name": "stdout",
     "output_type": "stream",
     "text": [
      "The shape of the cleaned dataset is: (616, 33)\n"
     ]
    }
   ],
   "source": [
    "#removing null values\n",
    "\n",
    "clean_data = data.dropna()\n",
    "print(\"The shape of the cleaned dataset is:\", clean_data.shape)"
   ]
  },
  {
   "cell_type": "code",
   "execution_count": 51,
   "id": "fdc3aaec",
   "metadata": {},
   "outputs": [
    {
     "name": "stderr",
     "output_type": "stream",
     "text": [
      "C:\\Users\\user\\AppData\\Local\\Temp\\ipykernel_16416\\1942288607.py:5: SettingWithCopyWarning: \n",
      "A value is trying to be set on a copy of a slice from a DataFrame.\n",
      "Try using .loc[row_indexer,col_indexer] = value instead\n",
      "\n",
      "See the caveats in the documentation: https://pandas.pydata.org/pandas-docs/stable/user_guide/indexing.html#returning-a-view-versus-a-copy\n",
      "  clean_data[['Primary streaming service', 'While working', 'Instrumentalist', 'Composer', 'Exploratory', 'Fav genre', 'Foreign languages', 'Frequency [Classical]', 'Frequency [Country]', 'Frequency [EDM]', 'Frequency [Folk]', 'Frequency [Gospel]', 'Frequency [Hip hop]', 'Frequency [Jazz]', 'Frequency [K pop]', 'Frequency [Latin]', 'Frequency [Lofi]', 'Frequency [Metal]', 'Frequency [Pop]', 'Frequency [R&B]', 'Frequency [Rap]', 'Frequency [Rock]', 'Frequency [Video game music]', 'Music effects' ]] = ord_enc.fit_transform(clean_data[['Primary streaming service', 'While working', 'Instrumentalist', 'Composer', 'Exploratory', 'Fav genre', 'Foreign languages', 'Frequency [Classical]', 'Frequency [Country]', 'Frequency [EDM]', 'Frequency [Folk]', 'Frequency [Gospel]', 'Frequency [Hip hop]', 'Frequency [Jazz]', 'Frequency [K pop]', 'Frequency [Latin]', 'Frequency [Lofi]', 'Frequency [Metal]', 'Frequency [Pop]', 'Frequency [R&B]', 'Frequency [Rap]', 'Frequency [Rock]', 'Frequency [Video game music]', 'Music effects']])\n"
     ]
    }
   ],
   "source": [
    "#converting categorical to numerical\n",
    "ord_enc = OrdinalEncoder(dtype = int)\n",
    "\n",
    "#Replacing 'review', 'item', 'gender' and 'category' columns in the dataframe with the transformed numerical data\n",
    "clean_data[['Primary streaming service', 'While working', 'Instrumentalist', 'Composer', 'Exploratory', 'Fav genre', 'Foreign languages', 'Frequency [Classical]', 'Frequency [Country]', 'Frequency [EDM]', 'Frequency [Folk]', 'Frequency [Gospel]', 'Frequency [Hip hop]', 'Frequency [Jazz]', 'Frequency [K pop]', 'Frequency [Latin]', 'Frequency [Lofi]', 'Frequency [Metal]', 'Frequency [Pop]', 'Frequency [R&B]', 'Frequency [Rap]', 'Frequency [Rock]', 'Frequency [Video game music]', 'Music effects' ]] = ord_enc.fit_transform(clean_data[['Primary streaming service', 'While working', 'Instrumentalist', 'Composer', 'Exploratory', 'Fav genre', 'Foreign languages', 'Frequency [Classical]', 'Frequency [Country]', 'Frequency [EDM]', 'Frequency [Folk]', 'Frequency [Gospel]', 'Frequency [Hip hop]', 'Frequency [Jazz]', 'Frequency [K pop]', 'Frequency [Latin]', 'Frequency [Lofi]', 'Frequency [Metal]', 'Frequency [Pop]', 'Frequency [R&B]', 'Frequency [Rap]', 'Frequency [Rock]', 'Frequency [Video game music]', 'Music effects']])"
   ]
  },
  {
   "cell_type": "code",
   "execution_count": 52,
   "id": "e2722921",
   "metadata": {
    "scrolled": true
   },
   "outputs": [
    {
     "data": {
      "text/html": [
       "<div>\n",
       "<style scoped>\n",
       "    .dataframe tbody tr th:only-of-type {\n",
       "        vertical-align: middle;\n",
       "    }\n",
       "\n",
       "    .dataframe tbody tr th {\n",
       "        vertical-align: top;\n",
       "    }\n",
       "\n",
       "    .dataframe thead th {\n",
       "        text-align: right;\n",
       "    }\n",
       "</style>\n",
       "<table border=\"1\" class=\"dataframe\">\n",
       "  <thead>\n",
       "    <tr style=\"text-align: right;\">\n",
       "      <th></th>\n",
       "      <th>Timestamp</th>\n",
       "      <th>Age</th>\n",
       "      <th>Primary streaming service</th>\n",
       "      <th>Hours per day</th>\n",
       "      <th>While working</th>\n",
       "      <th>Instrumentalist</th>\n",
       "      <th>Composer</th>\n",
       "      <th>Fav genre</th>\n",
       "      <th>Exploratory</th>\n",
       "      <th>Foreign languages</th>\n",
       "      <th>...</th>\n",
       "      <th>Frequency [R&amp;B]</th>\n",
       "      <th>Frequency [Rap]</th>\n",
       "      <th>Frequency [Rock]</th>\n",
       "      <th>Frequency [Video game music]</th>\n",
       "      <th>Anxiety</th>\n",
       "      <th>Depression</th>\n",
       "      <th>Insomnia</th>\n",
       "      <th>OCD</th>\n",
       "      <th>Music effects</th>\n",
       "      <th>Permissions</th>\n",
       "    </tr>\n",
       "  </thead>\n",
       "  <tbody>\n",
       "    <tr>\n",
       "      <th>2</th>\n",
       "      <td>8/27/2022 21:28:18</td>\n",
       "      <td>18.0</td>\n",
       "      <td>4</td>\n",
       "      <td>4.0</td>\n",
       "      <td>0</td>\n",
       "      <td>0</td>\n",
       "      <td>0</td>\n",
       "      <td>15</td>\n",
       "      <td>0</td>\n",
       "      <td>1</td>\n",
       "      <td>...</td>\n",
       "      <td>0</td>\n",
       "      <td>1</td>\n",
       "      <td>1</td>\n",
       "      <td>3</td>\n",
       "      <td>7.0</td>\n",
       "      <td>7.0</td>\n",
       "      <td>10.0</td>\n",
       "      <td>2.0</td>\n",
       "      <td>1</td>\n",
       "      <td>I understand.</td>\n",
       "    </tr>\n",
       "    <tr>\n",
       "      <th>3</th>\n",
       "      <td>8/27/2022 21:40:40</td>\n",
       "      <td>61.0</td>\n",
       "      <td>5</td>\n",
       "      <td>2.5</td>\n",
       "      <td>1</td>\n",
       "      <td>0</td>\n",
       "      <td>1</td>\n",
       "      <td>6</td>\n",
       "      <td>1</td>\n",
       "      <td>1</td>\n",
       "      <td>...</td>\n",
       "      <td>2</td>\n",
       "      <td>0</td>\n",
       "      <td>0</td>\n",
       "      <td>0</td>\n",
       "      <td>9.0</td>\n",
       "      <td>7.0</td>\n",
       "      <td>3.0</td>\n",
       "      <td>3.0</td>\n",
       "      <td>0</td>\n",
       "      <td>I understand.</td>\n",
       "    </tr>\n",
       "    <tr>\n",
       "      <th>4</th>\n",
       "      <td>8/27/2022 21:54:47</td>\n",
       "      <td>18.0</td>\n",
       "      <td>4</td>\n",
       "      <td>4.0</td>\n",
       "      <td>1</td>\n",
       "      <td>0</td>\n",
       "      <td>0</td>\n",
       "      <td>12</td>\n",
       "      <td>1</td>\n",
       "      <td>0</td>\n",
       "      <td>...</td>\n",
       "      <td>3</td>\n",
       "      <td>3</td>\n",
       "      <td>0</td>\n",
       "      <td>1</td>\n",
       "      <td>7.0</td>\n",
       "      <td>2.0</td>\n",
       "      <td>5.0</td>\n",
       "      <td>9.0</td>\n",
       "      <td>0</td>\n",
       "      <td>I understand.</td>\n",
       "    </tr>\n",
       "    <tr>\n",
       "      <th>5</th>\n",
       "      <td>8/27/2022 21:56:50</td>\n",
       "      <td>18.0</td>\n",
       "      <td>4</td>\n",
       "      <td>5.0</td>\n",
       "      <td>1</td>\n",
       "      <td>1</td>\n",
       "      <td>1</td>\n",
       "      <td>6</td>\n",
       "      <td>1</td>\n",
       "      <td>1</td>\n",
       "      <td>...</td>\n",
       "      <td>3</td>\n",
       "      <td>3</td>\n",
       "      <td>3</td>\n",
       "      <td>0</td>\n",
       "      <td>8.0</td>\n",
       "      <td>8.0</td>\n",
       "      <td>7.0</td>\n",
       "      <td>7.0</td>\n",
       "      <td>0</td>\n",
       "      <td>I understand.</td>\n",
       "    </tr>\n",
       "    <tr>\n",
       "      <th>6</th>\n",
       "      <td>8/27/2022 22:00:29</td>\n",
       "      <td>18.0</td>\n",
       "      <td>5</td>\n",
       "      <td>3.0</td>\n",
       "      <td>1</td>\n",
       "      <td>1</td>\n",
       "      <td>0</td>\n",
       "      <td>15</td>\n",
       "      <td>1</td>\n",
       "      <td>1</td>\n",
       "      <td>...</td>\n",
       "      <td>1</td>\n",
       "      <td>0</td>\n",
       "      <td>0</td>\n",
       "      <td>2</td>\n",
       "      <td>4.0</td>\n",
       "      <td>8.0</td>\n",
       "      <td>6.0</td>\n",
       "      <td>0.0</td>\n",
       "      <td>0</td>\n",
       "      <td>I understand.</td>\n",
       "    </tr>\n",
       "  </tbody>\n",
       "</table>\n",
       "<p>5 rows × 33 columns</p>\n",
       "</div>"
      ],
      "text/plain": [
       "            Timestamp   Age  Primary streaming service  Hours per day  \\\n",
       "2  8/27/2022 21:28:18  18.0                          4            4.0   \n",
       "3  8/27/2022 21:40:40  61.0                          5            2.5   \n",
       "4  8/27/2022 21:54:47  18.0                          4            4.0   \n",
       "5  8/27/2022 21:56:50  18.0                          4            5.0   \n",
       "6  8/27/2022 22:00:29  18.0                          5            3.0   \n",
       "\n",
       "   While working  Instrumentalist  Composer  Fav genre  Exploratory  \\\n",
       "2              0                0         0         15            0   \n",
       "3              1                0         1          6            1   \n",
       "4              1                0         0         12            1   \n",
       "5              1                1         1          6            1   \n",
       "6              1                1         0         15            1   \n",
       "\n",
       "   Foreign languages  ...  Frequency [R&B]  Frequency [Rap]  Frequency [Rock]  \\\n",
       "2                  1  ...                0                1                 1   \n",
       "3                  1  ...                2                0                 0   \n",
       "4                  0  ...                3                3                 0   \n",
       "5                  1  ...                3                3                 3   \n",
       "6                  1  ...                1                0                 0   \n",
       "\n",
       "   Frequency [Video game music]  Anxiety  Depression  Insomnia  OCD  \\\n",
       "2                             3      7.0         7.0      10.0  2.0   \n",
       "3                             0      9.0         7.0       3.0  3.0   \n",
       "4                             1      7.0         2.0       5.0  9.0   \n",
       "5                             0      8.0         8.0       7.0  7.0   \n",
       "6                             2      4.0         8.0       6.0  0.0   \n",
       "\n",
       "   Music effects    Permissions  \n",
       "2              1  I understand.  \n",
       "3              0  I understand.  \n",
       "4              0  I understand.  \n",
       "5              0  I understand.  \n",
       "6              0  I understand.  \n",
       "\n",
       "[5 rows x 33 columns]"
      ]
     },
     "execution_count": 52,
     "metadata": {},
     "output_type": "execute_result"
    }
   ],
   "source": [
    "#viewing the first 5 rows of the data after converting the categorical variables to numerical\n",
    "clean_data.head()"
   ]
  },
  {
   "cell_type": "code",
   "execution_count": 53,
   "id": "be6f5e70",
   "metadata": {},
   "outputs": [
    {
     "name": "stdout",
     "output_type": "stream",
     "text": [
      "                                   Age  Primary streaming service  \\\n",
      "Age                           1.000000                  -0.103132   \n",
      "Primary streaming service    -0.103132                   1.000000   \n",
      "Hours per day                -0.044917                   0.035788   \n",
      "While working                -0.056722                   0.040088   \n",
      "Instrumentalist              -0.092986                  -0.001762   \n",
      "Composer                     -0.020728                  -0.028206   \n",
      "Fav genre                     0.011859                  -0.041316   \n",
      "Exploratory                  -0.176944                   0.166179   \n",
      "Foreign languages            -0.115733                   0.075187   \n",
      "BPM                          -0.030435                   0.016394   \n",
      "Frequency [Classical]         0.089740                   0.033005   \n",
      "Frequency [Country]           0.123138                  -0.005499   \n",
      "Frequency [EDM]              -0.080731                   0.032937   \n",
      "Frequency [Folk]              0.136235                   0.102723   \n",
      "Frequency [Gospel]            0.117733                   0.011245   \n",
      "Frequency [Hip hop]          -0.147132                   0.040644   \n",
      "Frequency [Jazz]              0.097741                   0.026834   \n",
      "Frequency [K pop]            -0.151104                   0.063558   \n",
      "Frequency [Latin]             0.085143                  -0.016682   \n",
      "Frequency [Lofi]             -0.185751                   0.096936   \n",
      "Frequency [Metal]            -0.026833                   0.024383   \n",
      "Frequency [Pop]              -0.184853                   0.092804   \n",
      "Frequency [R&B]               0.031617                   0.055380   \n",
      "Frequency [Rap]              -0.196434                   0.055158   \n",
      "Frequency [Rock]              0.056741                   0.015538   \n",
      "Frequency [Video game music] -0.251041                   0.042155   \n",
      "Anxiety                      -0.193781                  -0.043106   \n",
      "Depression                   -0.087390                  -0.001597   \n",
      "Insomnia                      0.007083                  -0.007801   \n",
      "OCD                          -0.140464                  -0.007687   \n",
      "Music effects                 0.059195                  -0.042288   \n",
      "\n",
      "                              Hours per day  While working  Instrumentalist  \\\n",
      "Age                               -0.044917      -0.056722        -0.092986   \n",
      "Primary streaming service          0.035788       0.040088        -0.001762   \n",
      "Hours per day                      1.000000       0.284923        -0.020598   \n",
      "While working                      0.284923       1.000000         0.085167   \n",
      "Instrumentalist                   -0.020598       0.085167         1.000000   \n",
      "Composer                           0.151102       0.053883         0.437047   \n",
      "Fav genre                         -0.009102      -0.023809        -0.082457   \n",
      "Exploratory                        0.127432       0.174944         0.051446   \n",
      "Foreign languages                  0.083713       0.121532        -0.039580   \n",
      "BPM                                0.043320       0.020448        -0.027960   \n",
      "Frequency [Classical]             -0.039435       0.078908         0.244460   \n",
      "Frequency [Country]                0.033415      -0.016028        -0.037125   \n",
      "Frequency [EDM]                    0.132504       0.156899        -0.080719   \n",
      "Frequency [Folk]                   0.089821       0.027468        -0.030860   \n",
      "Frequency [Gospel]                 0.029830       0.058699         0.060921   \n",
      "Frequency [Hip hop]                0.135096       0.056282        -0.169680   \n",
      "Frequency [Jazz]                   0.115871       0.088764         0.218468   \n",
      "Frequency [K pop]                  0.077458       0.141833        -0.050339   \n",
      "Frequency [Latin]                  0.077354       0.098606         0.089405   \n",
      "Frequency [Lofi]                   0.105279       0.173865        -0.002963   \n",
      "Frequency [Metal]                  0.129051       0.048272         0.071801   \n",
      "Frequency [Pop]                   -0.040918       0.093678        -0.074619   \n",
      "Frequency [R&B]                    0.108278       0.132577        -0.110930   \n",
      "Frequency [Rap]                    0.182654       0.103441        -0.121595   \n",
      "Frequency [Rock]                   0.074553       0.002285        -0.002120   \n",
      "Frequency [Video game music]       0.045601       0.128352         0.071105   \n",
      "Anxiety                            0.036945       0.032674         0.044297   \n",
      "Depression                         0.085559       0.051999        -0.000458   \n",
      "Insomnia                           0.119036       0.038108         0.056052   \n",
      "OCD                                0.108197       0.095216         0.033615   \n",
      "Music effects                     -0.041468      -0.146556        -0.090223   \n",
      "\n",
      "                              Composer  Fav genre  Exploratory  \\\n",
      "Age                          -0.020728   0.011859    -0.176944   \n",
      "Primary streaming service    -0.028206  -0.041316     0.166179   \n",
      "Hours per day                 0.151102  -0.009102     0.127432   \n",
      "While working                 0.053883  -0.023809     0.174944   \n",
      "Instrumentalist               0.437047  -0.082457     0.051446   \n",
      "Composer                      1.000000  -0.068078     0.086077   \n",
      "Fav genre                    -0.068078   1.000000    -0.023414   \n",
      "Exploratory                   0.086077  -0.023414     1.000000   \n",
      "Foreign languages            -0.015818   0.000507     0.191773   \n",
      "BPM                          -0.018593   0.047559     0.024390   \n",
      "Frequency [Classical]         0.064639  -0.175930     0.059561   \n",
      "Frequency [Country]           0.020475  -0.121435     0.040465   \n",
      "Frequency [EDM]               0.021747  -0.116614     0.107771   \n",
      "Frequency [Folk]              0.069948   0.022995     0.151452   \n",
      "Frequency [Gospel]            0.070455  -0.128442     0.047957   \n",
      "Frequency [Hip hop]          -0.024286  -0.046537     0.211437   \n",
      "Frequency [Jazz]              0.209716  -0.047766     0.166921   \n",
      "Frequency [K pop]            -0.030776  -0.005790     0.161764   \n",
      "Frequency [Latin]             0.057222  -0.050235     0.084104   \n",
      "Frequency [Lofi]              0.044969  -0.012590     0.248102   \n",
      "Frequency [Metal]             0.136896   0.181303     0.140263   \n",
      "Frequency [Pop]              -0.049895   0.092989     0.194397   \n",
      "Frequency [R&B]               0.019511   0.041682     0.173880   \n",
      "Frequency [Rap]              -0.009058   0.009854     0.226284   \n",
      "Frequency [Rock]              0.068249   0.282762     0.155871   \n",
      "Frequency [Video game music]  0.015451   0.134797     0.005265   \n",
      "Anxiety                       0.011673   0.056476     0.022410   \n",
      "Depression                    0.080376   0.024989     0.057013   \n",
      "Insomnia                      0.100885   0.004954     0.049736   \n",
      "OCD                           0.025150   0.023656     0.035631   \n",
      "Music effects                -0.078434   0.115240    -0.144517   \n",
      "\n",
      "                              Foreign languages       BPM  ...  \\\n",
      "Age                                   -0.115733 -0.030435  ...   \n",
      "Primary streaming service              0.075187  0.016394  ...   \n",
      "Hours per day                          0.083713  0.043320  ...   \n",
      "While working                          0.121532  0.020448  ...   \n",
      "Instrumentalist                       -0.039580 -0.027960  ...   \n",
      "Composer                              -0.015818 -0.018593  ...   \n",
      "Fav genre                              0.000507  0.047559  ...   \n",
      "Exploratory                            0.191773  0.024390  ...   \n",
      "Foreign languages                      1.000000 -0.045798  ...   \n",
      "BPM                                   -0.045798  1.000000  ...   \n",
      "Frequency [Classical]                  0.130185 -0.054861  ...   \n",
      "Frequency [Country]                   -0.047406  0.007811  ...   \n",
      "Frequency [EDM]                        0.176398  0.034987  ...   \n",
      "Frequency [Folk]                       0.081410 -0.000588  ...   \n",
      "Frequency [Gospel]                     0.004919 -0.021934  ...   \n",
      "Frequency [Hip hop]                    0.164423 -0.016438  ...   \n",
      "Frequency [Jazz]                       0.130153 -0.002296  ...   \n",
      "Frequency [K pop]                      0.329751 -0.029611  ...   \n",
      "Frequency [Latin]                      0.237487 -0.028927  ...   \n",
      "Frequency [Lofi]                       0.182810 -0.042322  ...   \n",
      "Frequency [Metal]                      0.063731  0.062877  ...   \n",
      "Frequency [Pop]                        0.070927 -0.001964  ...   \n",
      "Frequency [R&B]                        0.161022 -0.048628  ...   \n",
      "Frequency [Rap]                        0.167179  0.061086  ...   \n",
      "Frequency [Rock]                      -0.002073 -0.041389  ...   \n",
      "Frequency [Video game music]           0.166273  0.028555  ...   \n",
      "Anxiety                                0.076930 -0.027564  ...   \n",
      "Depression                             0.084260  0.041804  ...   \n",
      "Insomnia                               0.044743  0.054452  ...   \n",
      "OCD                                   -0.040934  0.018939  ...   \n",
      "Music effects                         -0.016577  0.059445  ...   \n",
      "\n",
      "                              Frequency [Pop]  Frequency [R&B]  \\\n",
      "Age                                 -0.184853         0.031617   \n",
      "Primary streaming service            0.092804         0.055380   \n",
      "Hours per day                       -0.040918         0.108278   \n",
      "While working                        0.093678         0.132577   \n",
      "Instrumentalist                     -0.074619        -0.110930   \n",
      "Composer                            -0.049895         0.019511   \n",
      "Fav genre                            0.092989         0.041682   \n",
      "Exploratory                          0.194397         0.173880   \n",
      "Foreign languages                    0.070927         0.161022   \n",
      "BPM                                 -0.001964        -0.048628   \n",
      "Frequency [Classical]                0.056844         0.009734   \n",
      "Frequency [Country]                  0.061783         0.064863   \n",
      "Frequency [EDM]                      0.105517         0.146732   \n",
      "Frequency [Folk]                     0.044403         0.077287   \n",
      "Frequency [Gospel]                   0.050058         0.244053   \n",
      "Frequency [Hip hop]                  0.273519         0.544158   \n",
      "Frequency [Jazz]                     0.084109         0.314751   \n",
      "Frequency [K pop]                    0.314650         0.342768   \n",
      "Frequency [Latin]                    0.174484         0.338514   \n",
      "Frequency [Lofi]                     0.248503         0.249137   \n",
      "Frequency [Metal]                   -0.165768        -0.164077   \n",
      "Frequency [Pop]                      1.000000         0.382697   \n",
      "Frequency [R&B]                      0.382697         1.000000   \n",
      "Frequency [Rap]                      0.253910         0.503689   \n",
      "Frequency [Rock]                     0.073683         0.006559   \n",
      "Frequency [Video game music]         0.021318        -0.075759   \n",
      "Anxiety                              0.088186         0.032443   \n",
      "Depression                           0.062965         0.072458   \n",
      "Insomnia                            -0.022614         0.014995   \n",
      "OCD                                  0.039014         0.058092   \n",
      "Music effects                       -0.082634        -0.116698   \n",
      "\n",
      "                              Frequency [Rap]  Frequency [Rock]  \\\n",
      "Age                                 -0.196434          0.056741   \n",
      "Primary streaming service            0.055158          0.015538   \n",
      "Hours per day                        0.182654          0.074553   \n",
      "While working                        0.103441          0.002285   \n",
      "Instrumentalist                     -0.121595         -0.002120   \n",
      "Composer                            -0.009058          0.068249   \n",
      "Fav genre                            0.009854          0.282762   \n",
      "Exploratory                          0.226284          0.155871   \n",
      "Foreign languages                    0.167179         -0.002073   \n",
      "BPM                                  0.061086         -0.041389   \n",
      "Frequency [Classical]               -0.128014         -0.076335   \n",
      "Frequency [Country]                  0.045073          0.178713   \n",
      "Frequency [EDM]                      0.197023          0.056846   \n",
      "Frequency [Folk]                     0.020557          0.321199   \n",
      "Frequency [Gospel]                   0.092607         -0.062215   \n",
      "Frequency [Hip hop]                  0.783109         -0.029698   \n",
      "Frequency [Jazz]                     0.126881          0.132231   \n",
      "Frequency [K pop]                    0.245818         -0.182151   \n",
      "Frequency [Latin]                    0.188951         -0.036367   \n",
      "Frequency [Lofi]                     0.246566         -0.009882   \n",
      "Frequency [Metal]                    0.027197          0.498697   \n",
      "Frequency [Pop]                      0.253910          0.073683   \n",
      "Frequency [R&B]                      0.503689          0.006559   \n",
      "Frequency [Rap]                      1.000000          0.031681   \n",
      "Frequency [Rock]                     0.031681          1.000000   \n",
      "Frequency [Video game music]         0.010644          0.114293   \n",
      "Anxiety                              0.056560          0.060209   \n",
      "Depression                           0.127540          0.187692   \n",
      "Insomnia                             0.021349          0.076682   \n",
      "OCD                                  0.025518         -0.019496   \n",
      "Music effects                       -0.049186         -0.010445   \n",
      "\n",
      "                              Frequency [Video game music]   Anxiety  \\\n",
      "Age                                              -0.251041 -0.193781   \n",
      "Primary streaming service                         0.042155 -0.043106   \n",
      "Hours per day                                     0.045601  0.036945   \n",
      "While working                                     0.128352  0.032674   \n",
      "Instrumentalist                                   0.071105  0.044297   \n",
      "Composer                                          0.015451  0.011673   \n",
      "Fav genre                                         0.134797  0.056476   \n",
      "Exploratory                                       0.005265  0.022410   \n",
      "Foreign languages                                 0.166273  0.076930   \n",
      "BPM                                               0.028555 -0.027564   \n",
      "Frequency [Classical]                             0.115694 -0.023365   \n",
      "Frequency [Country]                              -0.071124 -0.001193   \n",
      "Frequency [EDM]                                   0.255299  0.057410   \n",
      "Frequency [Folk]                                  0.048635  0.067313   \n",
      "Frequency [Gospel]                                0.012250 -0.041904   \n",
      "Frequency [Hip hop]                              -0.007251  0.025637   \n",
      "Frequency [Jazz]                                  0.090937  0.008659   \n",
      "Frequency [K pop]                                 0.069419  0.055361   \n",
      "Frequency [Latin]                                -0.020733 -0.006255   \n",
      "Frequency [Lofi]                                  0.297214  0.063585   \n",
      "Frequency [Metal]                                 0.195608  0.026035   \n",
      "Frequency [Pop]                                   0.021318  0.088186   \n",
      "Frequency [R&B]                                  -0.075759  0.032443   \n",
      "Frequency [Rap]                                   0.010644  0.056560   \n",
      "Frequency [Rock]                                  0.114293  0.060209   \n",
      "Frequency [Video game music]                      1.000000  0.091959   \n",
      "Anxiety                                           0.091959  1.000000   \n",
      "Depression                                        0.074793  0.527950   \n",
      "Insomnia                                          0.104395  0.275013   \n",
      "OCD                                               0.013634  0.339262   \n",
      "Music effects                                     0.016214 -0.120924   \n",
      "\n",
      "                              Depression  Insomnia       OCD  Music effects  \n",
      "Age                            -0.087390  0.007083 -0.140464       0.059195  \n",
      "Primary streaming service      -0.001597 -0.007801 -0.007687      -0.042288  \n",
      "Hours per day                   0.085559  0.119036  0.108197      -0.041468  \n",
      "While working                   0.051999  0.038108  0.095216      -0.146556  \n",
      "Instrumentalist                -0.000458  0.056052  0.033615      -0.090223  \n",
      "Composer                        0.080376  0.100885  0.025150      -0.078434  \n",
      "Fav genre                       0.024989  0.004954  0.023656       0.115240  \n",
      "Exploratory                     0.057013  0.049736  0.035631      -0.144517  \n",
      "Foreign languages               0.084260  0.044743 -0.040934      -0.016577  \n",
      "BPM                             0.041804  0.054452  0.018939       0.059445  \n",
      "Frequency [Classical]           0.017071  0.093705  0.003221       0.036409  \n",
      "Frequency [Country]            -0.061005 -0.049713  0.055419      -0.077789  \n",
      "Frequency [EDM]                 0.065733  0.089142  0.097941      -0.059854  \n",
      "Frequency [Folk]                0.094319  0.054582  0.019610       0.005147  \n",
      "Frequency [Gospel]             -0.012001  0.016998  0.022568      -0.095802  \n",
      "Frequency [Hip hop]             0.103438  0.012311  0.036960      -0.039574  \n",
      "Frequency [Jazz]                0.065368  0.064961 -0.019492      -0.048376  \n",
      "Frequency [K pop]              -0.025249  0.007776  0.046690      -0.082255  \n",
      "Frequency [Latin]               0.015419  0.050624 -0.014137      -0.025410  \n",
      "Frequency [Lofi]                0.039068  0.090872  0.072494      -0.076136  \n",
      "Frequency [Metal]               0.171019  0.140219 -0.029395       0.026720  \n",
      "Frequency [Pop]                 0.062965 -0.022614  0.039014      -0.082634  \n",
      "Frequency [R&B]                 0.072458  0.014995  0.058092      -0.116698  \n",
      "Frequency [Rap]                 0.127540  0.021349  0.025518      -0.049186  \n",
      "Frequency [Rock]                0.187692  0.076682 -0.019496      -0.010445  \n",
      "Frequency [Video game music]    0.074793  0.104395  0.013634       0.016214  \n",
      "Anxiety                         0.527950  0.275013  0.339262      -0.120924  \n",
      "Depression                      1.000000  0.372675  0.158990       0.009313  \n",
      "Insomnia                        0.372675  1.000000  0.198866       0.008440  \n",
      "OCD                             0.158990  0.198866  1.000000      -0.052105  \n",
      "Music effects                   0.009313  0.008440 -0.052105       1.000000  \n",
      "\n",
      "[31 rows x 31 columns]\n"
     ]
    }
   ],
   "source": [
    "#dropping unnecessary columns\n",
    "clean_data = clean_data.drop(['Timestamp', 'Permissions'], axis = 1)\n",
    "\n",
    "#calculating correlations\n",
    "correlations = clean_data.corr()\n",
    "print(correlations)"
   ]
  },
  {
   "cell_type": "code",
   "execution_count": 54,
   "id": "1af6b44d",
   "metadata": {
    "scrolled": false
   },
   "outputs": [
    {
     "data": {
      "text/plain": [
       "Age                             0.059195\n",
       "Primary streaming service      -0.042288\n",
       "Hours per day                  -0.041468\n",
       "While working                  -0.146556\n",
       "Instrumentalist                -0.090223\n",
       "Composer                       -0.078434\n",
       "Fav genre                       0.115240\n",
       "Exploratory                    -0.144517\n",
       "Foreign languages              -0.016577\n",
       "BPM                             0.059445\n",
       "Frequency [Classical]           0.036409\n",
       "Frequency [Country]            -0.077789\n",
       "Frequency [EDM]                -0.059854\n",
       "Frequency [Folk]                0.005147\n",
       "Frequency [Gospel]             -0.095802\n",
       "Frequency [Hip hop]            -0.039574\n",
       "Frequency [Jazz]               -0.048376\n",
       "Frequency [K pop]              -0.082255\n",
       "Frequency [Latin]              -0.025410\n",
       "Frequency [Lofi]               -0.076136\n",
       "Frequency [Metal]               0.026720\n",
       "Frequency [Pop]                -0.082634\n",
       "Frequency [R&B]                -0.116698\n",
       "Frequency [Rap]                -0.049186\n",
       "Frequency [Rock]               -0.010445\n",
       "Frequency [Video game music]    0.016214\n",
       "Anxiety                        -0.120924\n",
       "Depression                      0.009313\n",
       "Insomnia                        0.008440\n",
       "OCD                            -0.052105\n",
       "Music effects                   1.000000\n",
       "dtype: float64"
      ]
     },
     "execution_count": 54,
     "metadata": {},
     "output_type": "execute_result"
    }
   ],
   "source": [
    "#correlation of music effects with all the features\n",
    "\n",
    "clean_data.corrwith(clean_data[\"Music effects\"])"
   ]
  },
  {
   "cell_type": "markdown",
   "id": "f686c040",
   "metadata": {},
   "source": [
    "Music effects has the highest correlation with whether the individual explores different genres with music or not"
   ]
  },
  {
   "cell_type": "markdown",
   "id": "27ce0fa0",
   "metadata": {},
   "source": [
    "## KNN model"
   ]
  },
  {
   "cell_type": "code",
   "execution_count": 56,
   "id": "7d414e47",
   "metadata": {},
   "outputs": [
    {
     "name": "stdout",
     "output_type": "stream",
     "text": [
      "(492, 31)\n",
      "(124, 31)\n"
     ]
    }
   ],
   "source": [
    "#using KNN model\n",
    "#splitting training and testing data\n",
    "train, test = train_test_split(clean_data, test_size = 0.2, random_state = 142)\n",
    "\n",
    "print(train.shape)\n",
    "print(test.shape)"
   ]
  },
  {
   "cell_type": "code",
   "execution_count": 57,
   "id": "71ae30f3",
   "metadata": {},
   "outputs": [],
   "source": [
    "#training data variable declaration\n",
    "x_train = train.drop(['Music effects'], axis = 1)\n",
    "y_train = train['Music effects']\n",
    "\n",
    "#testing data variable declaration\n",
    "x_test = test.drop(['Music effects'], axis = 1)\n",
    "y_test = test['Music effects']"
   ]
  },
  {
   "cell_type": "code",
   "execution_count": 58,
   "id": "c2152a47",
   "metadata": {
    "scrolled": true
   },
   "outputs": [
    {
     "data": {
      "text/html": [
       "<style>#sk-container-id-4 {color: black;background-color: white;}#sk-container-id-4 pre{padding: 0;}#sk-container-id-4 div.sk-toggleable {background-color: white;}#sk-container-id-4 label.sk-toggleable__label {cursor: pointer;display: block;width: 100%;margin-bottom: 0;padding: 0.3em;box-sizing: border-box;text-align: center;}#sk-container-id-4 label.sk-toggleable__label-arrow:before {content: \"▸\";float: left;margin-right: 0.25em;color: #696969;}#sk-container-id-4 label.sk-toggleable__label-arrow:hover:before {color: black;}#sk-container-id-4 div.sk-estimator:hover label.sk-toggleable__label-arrow:before {color: black;}#sk-container-id-4 div.sk-toggleable__content {max-height: 0;max-width: 0;overflow: hidden;text-align: left;background-color: #f0f8ff;}#sk-container-id-4 div.sk-toggleable__content pre {margin: 0.2em;color: black;border-radius: 0.25em;background-color: #f0f8ff;}#sk-container-id-4 input.sk-toggleable__control:checked~div.sk-toggleable__content {max-height: 200px;max-width: 100%;overflow: auto;}#sk-container-id-4 input.sk-toggleable__control:checked~label.sk-toggleable__label-arrow:before {content: \"▾\";}#sk-container-id-4 div.sk-estimator input.sk-toggleable__control:checked~label.sk-toggleable__label {background-color: #d4ebff;}#sk-container-id-4 div.sk-label input.sk-toggleable__control:checked~label.sk-toggleable__label {background-color: #d4ebff;}#sk-container-id-4 input.sk-hidden--visually {border: 0;clip: rect(1px 1px 1px 1px);clip: rect(1px, 1px, 1px, 1px);height: 1px;margin: -1px;overflow: hidden;padding: 0;position: absolute;width: 1px;}#sk-container-id-4 div.sk-estimator {font-family: monospace;background-color: #f0f8ff;border: 1px dotted black;border-radius: 0.25em;box-sizing: border-box;margin-bottom: 0.5em;}#sk-container-id-4 div.sk-estimator:hover {background-color: #d4ebff;}#sk-container-id-4 div.sk-parallel-item::after {content: \"\";width: 100%;border-bottom: 1px solid gray;flex-grow: 1;}#sk-container-id-4 div.sk-label:hover label.sk-toggleable__label {background-color: #d4ebff;}#sk-container-id-4 div.sk-serial::before {content: \"\";position: absolute;border-left: 1px solid gray;box-sizing: border-box;top: 0;bottom: 0;left: 50%;z-index: 0;}#sk-container-id-4 div.sk-serial {display: flex;flex-direction: column;align-items: center;background-color: white;padding-right: 0.2em;padding-left: 0.2em;position: relative;}#sk-container-id-4 div.sk-item {position: relative;z-index: 1;}#sk-container-id-4 div.sk-parallel {display: flex;align-items: stretch;justify-content: center;background-color: white;position: relative;}#sk-container-id-4 div.sk-item::before, #sk-container-id-4 div.sk-parallel-item::before {content: \"\";position: absolute;border-left: 1px solid gray;box-sizing: border-box;top: 0;bottom: 0;left: 50%;z-index: -1;}#sk-container-id-4 div.sk-parallel-item {display: flex;flex-direction: column;z-index: 1;position: relative;background-color: white;}#sk-container-id-4 div.sk-parallel-item:first-child::after {align-self: flex-end;width: 50%;}#sk-container-id-4 div.sk-parallel-item:last-child::after {align-self: flex-start;width: 50%;}#sk-container-id-4 div.sk-parallel-item:only-child::after {width: 0;}#sk-container-id-4 div.sk-dashed-wrapped {border: 1px dashed gray;margin: 0 0.4em 0.5em 0.4em;box-sizing: border-box;padding-bottom: 0.4em;background-color: white;}#sk-container-id-4 div.sk-label label {font-family: monospace;font-weight: bold;display: inline-block;line-height: 1.2em;}#sk-container-id-4 div.sk-label-container {text-align: center;}#sk-container-id-4 div.sk-container {/* jupyter's `normalize.less` sets `[hidden] { display: none; }` but bootstrap.min.css set `[hidden] { display: none !important; }` so we also need the `!important` here to be able to override the default hidden behavior on the sphinx rendered scikit-learn.org. See: https://github.com/scikit-learn/scikit-learn/issues/21755 */display: inline-block !important;position: relative;}#sk-container-id-4 div.sk-text-repr-fallback {display: none;}</style><div id=\"sk-container-id-4\" class=\"sk-top-container\"><div class=\"sk-text-repr-fallback\"><pre>KNeighborsClassifier()</pre><b>In a Jupyter environment, please rerun this cell to show the HTML representation or trust the notebook. <br />On GitHub, the HTML representation is unable to render, please try loading this page with nbviewer.org.</b></div><div class=\"sk-container\" hidden><div class=\"sk-item\"><div class=\"sk-estimator sk-toggleable\"><input class=\"sk-toggleable__control sk-hidden--visually\" id=\"sk-estimator-id-6\" type=\"checkbox\" checked><label for=\"sk-estimator-id-6\" class=\"sk-toggleable__label sk-toggleable__label-arrow\">KNeighborsClassifier</label><div class=\"sk-toggleable__content\"><pre>KNeighborsClassifier()</pre></div></div></div></div></div>"
      ],
      "text/plain": [
       "KNeighborsClassifier()"
      ]
     },
     "execution_count": 58,
     "metadata": {},
     "output_type": "execute_result"
    }
   ],
   "source": [
    "#training knn model\n",
    "knn = KNeighborsClassifier(n_neighbors = 5)\n",
    "knn.fit(x_train, y_train)"
   ]
  },
  {
   "cell_type": "code",
   "execution_count": 59,
   "id": "2033f6bc",
   "metadata": {},
   "outputs": [
    {
     "name": "stdout",
     "output_type": "stream",
     "text": [
      "The accuracy of the model is:  0.7258064516129032\n"
     ]
    }
   ],
   "source": [
    "#Checking the accuracy of the model using the test data\n",
    "y_predicted = knn.predict(x_test)\n",
    "print(\"The accuracy of the model is: \", accuracy_score(y_test, y_predicted))"
   ]
  },
  {
   "cell_type": "code",
   "execution_count": 60,
   "id": "3651e831",
   "metadata": {},
   "outputs": [
    {
     "data": {
      "text/html": [
       "<style>#sk-container-id-5 {color: black;background-color: white;}#sk-container-id-5 pre{padding: 0;}#sk-container-id-5 div.sk-toggleable {background-color: white;}#sk-container-id-5 label.sk-toggleable__label {cursor: pointer;display: block;width: 100%;margin-bottom: 0;padding: 0.3em;box-sizing: border-box;text-align: center;}#sk-container-id-5 label.sk-toggleable__label-arrow:before {content: \"▸\";float: left;margin-right: 0.25em;color: #696969;}#sk-container-id-5 label.sk-toggleable__label-arrow:hover:before {color: black;}#sk-container-id-5 div.sk-estimator:hover label.sk-toggleable__label-arrow:before {color: black;}#sk-container-id-5 div.sk-toggleable__content {max-height: 0;max-width: 0;overflow: hidden;text-align: left;background-color: #f0f8ff;}#sk-container-id-5 div.sk-toggleable__content pre {margin: 0.2em;color: black;border-radius: 0.25em;background-color: #f0f8ff;}#sk-container-id-5 input.sk-toggleable__control:checked~div.sk-toggleable__content {max-height: 200px;max-width: 100%;overflow: auto;}#sk-container-id-5 input.sk-toggleable__control:checked~label.sk-toggleable__label-arrow:before {content: \"▾\";}#sk-container-id-5 div.sk-estimator input.sk-toggleable__control:checked~label.sk-toggleable__label {background-color: #d4ebff;}#sk-container-id-5 div.sk-label input.sk-toggleable__control:checked~label.sk-toggleable__label {background-color: #d4ebff;}#sk-container-id-5 input.sk-hidden--visually {border: 0;clip: rect(1px 1px 1px 1px);clip: rect(1px, 1px, 1px, 1px);height: 1px;margin: -1px;overflow: hidden;padding: 0;position: absolute;width: 1px;}#sk-container-id-5 div.sk-estimator {font-family: monospace;background-color: #f0f8ff;border: 1px dotted black;border-radius: 0.25em;box-sizing: border-box;margin-bottom: 0.5em;}#sk-container-id-5 div.sk-estimator:hover {background-color: #d4ebff;}#sk-container-id-5 div.sk-parallel-item::after {content: \"\";width: 100%;border-bottom: 1px solid gray;flex-grow: 1;}#sk-container-id-5 div.sk-label:hover label.sk-toggleable__label {background-color: #d4ebff;}#sk-container-id-5 div.sk-serial::before {content: \"\";position: absolute;border-left: 1px solid gray;box-sizing: border-box;top: 0;bottom: 0;left: 50%;z-index: 0;}#sk-container-id-5 div.sk-serial {display: flex;flex-direction: column;align-items: center;background-color: white;padding-right: 0.2em;padding-left: 0.2em;position: relative;}#sk-container-id-5 div.sk-item {position: relative;z-index: 1;}#sk-container-id-5 div.sk-parallel {display: flex;align-items: stretch;justify-content: center;background-color: white;position: relative;}#sk-container-id-5 div.sk-item::before, #sk-container-id-5 div.sk-parallel-item::before {content: \"\";position: absolute;border-left: 1px solid gray;box-sizing: border-box;top: 0;bottom: 0;left: 50%;z-index: -1;}#sk-container-id-5 div.sk-parallel-item {display: flex;flex-direction: column;z-index: 1;position: relative;background-color: white;}#sk-container-id-5 div.sk-parallel-item:first-child::after {align-self: flex-end;width: 50%;}#sk-container-id-5 div.sk-parallel-item:last-child::after {align-self: flex-start;width: 50%;}#sk-container-id-5 div.sk-parallel-item:only-child::after {width: 0;}#sk-container-id-5 div.sk-dashed-wrapped {border: 1px dashed gray;margin: 0 0.4em 0.5em 0.4em;box-sizing: border-box;padding-bottom: 0.4em;background-color: white;}#sk-container-id-5 div.sk-label label {font-family: monospace;font-weight: bold;display: inline-block;line-height: 1.2em;}#sk-container-id-5 div.sk-label-container {text-align: center;}#sk-container-id-5 div.sk-container {/* jupyter's `normalize.less` sets `[hidden] { display: none; }` but bootstrap.min.css set `[hidden] { display: none !important; }` so we also need the `!important` here to be able to override the default hidden behavior on the sphinx rendered scikit-learn.org. See: https://github.com/scikit-learn/scikit-learn/issues/21755 */display: inline-block !important;position: relative;}#sk-container-id-5 div.sk-text-repr-fallback {display: none;}</style><div id=\"sk-container-id-5\" class=\"sk-top-container\"><div class=\"sk-text-repr-fallback\"><pre>GridSearchCV(estimator=KNeighborsClassifier(),\n",
       "             param_grid={&#x27;n_neighbors&#x27;: range(1, 100)})</pre><b>In a Jupyter environment, please rerun this cell to show the HTML representation or trust the notebook. <br />On GitHub, the HTML representation is unable to render, please try loading this page with nbviewer.org.</b></div><div class=\"sk-container\" hidden><div class=\"sk-item sk-dashed-wrapped\"><div class=\"sk-label-container\"><div class=\"sk-label sk-toggleable\"><input class=\"sk-toggleable__control sk-hidden--visually\" id=\"sk-estimator-id-7\" type=\"checkbox\" ><label for=\"sk-estimator-id-7\" class=\"sk-toggleable__label sk-toggleable__label-arrow\">GridSearchCV</label><div class=\"sk-toggleable__content\"><pre>GridSearchCV(estimator=KNeighborsClassifier(),\n",
       "             param_grid={&#x27;n_neighbors&#x27;: range(1, 100)})</pre></div></div></div><div class=\"sk-parallel\"><div class=\"sk-parallel-item\"><div class=\"sk-item\"><div class=\"sk-label-container\"><div class=\"sk-label sk-toggleable\"><input class=\"sk-toggleable__control sk-hidden--visually\" id=\"sk-estimator-id-8\" type=\"checkbox\" ><label for=\"sk-estimator-id-8\" class=\"sk-toggleable__label sk-toggleable__label-arrow\">estimator: KNeighborsClassifier</label><div class=\"sk-toggleable__content\"><pre>KNeighborsClassifier()</pre></div></div></div><div class=\"sk-serial\"><div class=\"sk-item\"><div class=\"sk-estimator sk-toggleable\"><input class=\"sk-toggleable__control sk-hidden--visually\" id=\"sk-estimator-id-9\" type=\"checkbox\" ><label for=\"sk-estimator-id-9\" class=\"sk-toggleable__label sk-toggleable__label-arrow\">KNeighborsClassifier</label><div class=\"sk-toggleable__content\"><pre>KNeighborsClassifier()</pre></div></div></div></div></div></div></div></div></div></div>"
      ],
      "text/plain": [
       "GridSearchCV(estimator=KNeighborsClassifier(),\n",
       "             param_grid={'n_neighbors': range(1, 100)})"
      ]
     },
     "execution_count": 60,
     "metadata": {},
     "output_type": "execute_result"
    }
   ],
   "source": [
    "#GridSearch is used to vary the value of k and see which value of k gives the best accuracy\n",
    "#A range of k values from 1 to 100 are used\n",
    "parms = {'n_neighbors':range(1,100)}\n",
    "\n",
    "m = GridSearchCV(knn, parms)\n",
    "m.fit(x_train, y_train)"
   ]
  },
  {
   "cell_type": "code",
   "execution_count": 61,
   "id": "236053e3",
   "metadata": {},
   "outputs": [
    {
     "name": "stdout",
     "output_type": "stream",
     "text": [
      "The best K value is:  {'n_neighbors': 9}\n"
     ]
    }
   ],
   "source": [
    "#Best K value is printed\n",
    "print(\"The best K value is: \", m.best_params_)"
   ]
  },
  {
   "cell_type": "code",
   "execution_count": 62,
   "id": "583613f2",
   "metadata": {},
   "outputs": [
    {
     "name": "stdout",
     "output_type": "stream",
     "text": [
      "The accuracy with the best K value: 0.7520511234796949\n"
     ]
    }
   ],
   "source": [
    "#Accuracy with the best K value is printed\n",
    "print(\"The accuracy with the best K value:\", m.best_score_)"
   ]
  },
  {
   "cell_type": "code",
   "execution_count": 63,
   "id": "210ac098",
   "metadata": {},
   "outputs": [
    {
     "name": "stdout",
     "output_type": "stream",
     "text": [
      "Cross-validation scores:[0.72       0.66       0.75510204 0.7755102  0.7755102  0.73469388\n",
      " 0.69387755 0.69387755 0.73469388 0.69387755]\n"
     ]
    }
   ],
   "source": [
    "#10 fold cross validation\n",
    "scores1 = cross_val_score(knn, x_train, y_train, cv = 10, scoring='accuracy')\n",
    "print('Cross-validation scores:{}'.format(scores1))"
   ]
  },
  {
   "cell_type": "code",
   "execution_count": 64,
   "id": "77054510",
   "metadata": {},
   "outputs": [
    {
     "name": "stdout",
     "output_type": "stream",
     "text": [
      "Average cross-validation score: 0.7237142857142858\n"
     ]
    }
   ],
   "source": [
    "# compute Average cross-validation score\n",
    "print('Average cross-validation score:', scores1.mean())"
   ]
  },
  {
   "cell_type": "markdown",
   "id": "e8c670eb",
   "metadata": {},
   "source": [
    "We can conclude that using the KNN model the best model has a k value of 9 with an accuracy of 75.2% and the average accuracy with 10 fold cross-validation is 72.4%. Which means that 10 fold cross-validation does not improve the model."
   ]
  },
  {
   "cell_type": "markdown",
   "id": "601bf1b8",
   "metadata": {},
   "source": [
    "## Gaussian Naive Bayes\n",
    "\n",
    "Now I will be using a Gaussian Naive Bayes model to see if it improves the model performance."
   ]
  },
  {
   "cell_type": "code",
   "execution_count": 65,
   "id": "84c5d812",
   "metadata": {},
   "outputs": [
    {
     "data": {
      "text/html": [
       "<style>#sk-container-id-6 {color: black;background-color: white;}#sk-container-id-6 pre{padding: 0;}#sk-container-id-6 div.sk-toggleable {background-color: white;}#sk-container-id-6 label.sk-toggleable__label {cursor: pointer;display: block;width: 100%;margin-bottom: 0;padding: 0.3em;box-sizing: border-box;text-align: center;}#sk-container-id-6 label.sk-toggleable__label-arrow:before {content: \"▸\";float: left;margin-right: 0.25em;color: #696969;}#sk-container-id-6 label.sk-toggleable__label-arrow:hover:before {color: black;}#sk-container-id-6 div.sk-estimator:hover label.sk-toggleable__label-arrow:before {color: black;}#sk-container-id-6 div.sk-toggleable__content {max-height: 0;max-width: 0;overflow: hidden;text-align: left;background-color: #f0f8ff;}#sk-container-id-6 div.sk-toggleable__content pre {margin: 0.2em;color: black;border-radius: 0.25em;background-color: #f0f8ff;}#sk-container-id-6 input.sk-toggleable__control:checked~div.sk-toggleable__content {max-height: 200px;max-width: 100%;overflow: auto;}#sk-container-id-6 input.sk-toggleable__control:checked~label.sk-toggleable__label-arrow:before {content: \"▾\";}#sk-container-id-6 div.sk-estimator input.sk-toggleable__control:checked~label.sk-toggleable__label {background-color: #d4ebff;}#sk-container-id-6 div.sk-label input.sk-toggleable__control:checked~label.sk-toggleable__label {background-color: #d4ebff;}#sk-container-id-6 input.sk-hidden--visually {border: 0;clip: rect(1px 1px 1px 1px);clip: rect(1px, 1px, 1px, 1px);height: 1px;margin: -1px;overflow: hidden;padding: 0;position: absolute;width: 1px;}#sk-container-id-6 div.sk-estimator {font-family: monospace;background-color: #f0f8ff;border: 1px dotted black;border-radius: 0.25em;box-sizing: border-box;margin-bottom: 0.5em;}#sk-container-id-6 div.sk-estimator:hover {background-color: #d4ebff;}#sk-container-id-6 div.sk-parallel-item::after {content: \"\";width: 100%;border-bottom: 1px solid gray;flex-grow: 1;}#sk-container-id-6 div.sk-label:hover label.sk-toggleable__label {background-color: #d4ebff;}#sk-container-id-6 div.sk-serial::before {content: \"\";position: absolute;border-left: 1px solid gray;box-sizing: border-box;top: 0;bottom: 0;left: 50%;z-index: 0;}#sk-container-id-6 div.sk-serial {display: flex;flex-direction: column;align-items: center;background-color: white;padding-right: 0.2em;padding-left: 0.2em;position: relative;}#sk-container-id-6 div.sk-item {position: relative;z-index: 1;}#sk-container-id-6 div.sk-parallel {display: flex;align-items: stretch;justify-content: center;background-color: white;position: relative;}#sk-container-id-6 div.sk-item::before, #sk-container-id-6 div.sk-parallel-item::before {content: \"\";position: absolute;border-left: 1px solid gray;box-sizing: border-box;top: 0;bottom: 0;left: 50%;z-index: -1;}#sk-container-id-6 div.sk-parallel-item {display: flex;flex-direction: column;z-index: 1;position: relative;background-color: white;}#sk-container-id-6 div.sk-parallel-item:first-child::after {align-self: flex-end;width: 50%;}#sk-container-id-6 div.sk-parallel-item:last-child::after {align-self: flex-start;width: 50%;}#sk-container-id-6 div.sk-parallel-item:only-child::after {width: 0;}#sk-container-id-6 div.sk-dashed-wrapped {border: 1px dashed gray;margin: 0 0.4em 0.5em 0.4em;box-sizing: border-box;padding-bottom: 0.4em;background-color: white;}#sk-container-id-6 div.sk-label label {font-family: monospace;font-weight: bold;display: inline-block;line-height: 1.2em;}#sk-container-id-6 div.sk-label-container {text-align: center;}#sk-container-id-6 div.sk-container {/* jupyter's `normalize.less` sets `[hidden] { display: none; }` but bootstrap.min.css set `[hidden] { display: none !important; }` so we also need the `!important` here to be able to override the default hidden behavior on the sphinx rendered scikit-learn.org. See: https://github.com/scikit-learn/scikit-learn/issues/21755 */display: inline-block !important;position: relative;}#sk-container-id-6 div.sk-text-repr-fallback {display: none;}</style><div id=\"sk-container-id-6\" class=\"sk-top-container\"><div class=\"sk-text-repr-fallback\"><pre>GaussianNB()</pre><b>In a Jupyter environment, please rerun this cell to show the HTML representation or trust the notebook. <br />On GitHub, the HTML representation is unable to render, please try loading this page with nbviewer.org.</b></div><div class=\"sk-container\" hidden><div class=\"sk-item\"><div class=\"sk-estimator sk-toggleable\"><input class=\"sk-toggleable__control sk-hidden--visually\" id=\"sk-estimator-id-10\" type=\"checkbox\" checked><label for=\"sk-estimator-id-10\" class=\"sk-toggleable__label sk-toggleable__label-arrow\">GaussianNB</label><div class=\"sk-toggleable__content\"><pre>GaussianNB()</pre></div></div></div></div></div>"
      ],
      "text/plain": [
       "GaussianNB()"
      ]
     },
     "execution_count": 65,
     "metadata": {},
     "output_type": "execute_result"
    }
   ],
   "source": [
    "#model training\n",
    "gnb = GaussianNB()\n",
    "\n",
    "#model fitting\n",
    "gnb.fit(x_train, y_train)"
   ]
  },
  {
   "cell_type": "code",
   "execution_count": 66,
   "id": "91d33acb",
   "metadata": {},
   "outputs": [
    {
     "name": "stdout",
     "output_type": "stream",
     "text": [
      "Model accuracy score: 0.7742\n"
     ]
    }
   ],
   "source": [
    "#accuracy\n",
    "y_pred = gnb.predict(x_test)\n",
    "print('Model accuracy score: {0:0.4f}'. format(accuracy_score(y_test, y_pred)))"
   ]
  },
  {
   "cell_type": "markdown",
   "id": "8b0f4f2f",
   "metadata": {},
   "source": [
    "This model performs better than the knn model with an accuracy of 77.4%"
   ]
  },
  {
   "cell_type": "code",
   "execution_count": 67,
   "id": "6f2348da",
   "metadata": {},
   "outputs": [
    {
     "name": "stdout",
     "output_type": "stream",
     "text": [
      "Confusion matrix\n",
      "\n",
      " [[96  0  0]\n",
      " [25  0  0]\n",
      " [ 3  0  0]]\n",
      "\n",
      "True Positives(TP) =  96\n",
      "\n",
      "True Negatives(TN) =  0\n",
      "\n",
      "False Positives(FP) =  0\n",
      "\n",
      "False Negatives(FN) =  25\n"
     ]
    }
   ],
   "source": [
    "#confusion matrix\n",
    "cm = confusion_matrix(y_test, y_pred)\n",
    "\n",
    "# visualize confusion matrix with seaborn heatmap\n",
    "print('Confusion matrix\\n\\n', cm)\n",
    "\n",
    "print('\\nTrue Positives(TP) = ', cm[0,0])\n",
    "\n",
    "print('\\nTrue Negatives(TN) = ', cm[1,1])\n",
    "\n",
    "print('\\nFalse Positives(FP) = ', cm[0,1])\n",
    "\n",
    "print('\\nFalse Negatives(FN) = ', cm[1,0])"
   ]
  },
  {
   "cell_type": "code",
   "execution_count": 68,
   "id": "5b0ee0bf",
   "metadata": {},
   "outputs": [
    {
     "name": "stdout",
     "output_type": "stream",
     "text": [
      "Classification accuracy : 0.7933884297520661\n",
      "Classification error : 0.2066115702479339\n"
     ]
    }
   ],
   "source": [
    "tp = cm[0,0] #true positives\n",
    "tn = cm[1,1] #true negatives\n",
    "fp = cm[0,1] #false positives\n",
    "fn = cm[1,0] #false negatives\n",
    "\n",
    "# print classification accuracy\n",
    "accuracy = (tp + tn) / float(tp + tn + fp + fn)\n",
    "print('Classification accuracy :', accuracy)\n",
    "\n",
    "#classification error\n",
    "error = (fp + fn) / float(tp + tn + fp + fn)\n",
    "print('Classification error :', error)"
   ]
  },
  {
   "cell_type": "code",
   "execution_count": 69,
   "id": "10c58e15",
   "metadata": {},
   "outputs": [
    {
     "name": "stdout",
     "output_type": "stream",
     "text": [
      "Precision : 1.0\n",
      "Recall or Sensitivity : 0.7933884297520661\n"
     ]
    }
   ],
   "source": [
    "# print precision score\n",
    "precision = tp / float(tp + fp)\n",
    "print('Precision :', precision)\n",
    "\n",
    "#recall\n",
    "recall = tp / float(tp + fn)\n",
    "print('Recall or Sensitivity :', recall)"
   ]
  },
  {
   "cell_type": "code",
   "execution_count": 70,
   "id": "6802d766",
   "metadata": {},
   "outputs": [
    {
     "name": "stdout",
     "output_type": "stream",
     "text": [
      "Cross-validation scores:[0.74       0.74       0.75510204 0.75510204 0.75510204 0.75510204\n",
      " 0.75510204 0.75510204 0.75510204 0.59183673]\n"
     ]
    }
   ],
   "source": [
    "#10 fold cross validation\n",
    "scores2 = cross_val_score(gnb, x_train, y_train, cv = 10, scoring='accuracy')\n",
    "print('Cross-validation scores:{}'.format(scores2))"
   ]
  },
  {
   "cell_type": "code",
   "execution_count": 71,
   "id": "5bf40bc3",
   "metadata": {
    "scrolled": true
   },
   "outputs": [
    {
     "name": "stdout",
     "output_type": "stream",
     "text": [
      "Average cross-validation scores: 0.7357551020408163\n"
     ]
    }
   ],
   "source": [
    "# compute Average cross-validation score\n",
    "print('Average cross-validation scores:', scores2.mean())"
   ]
  },
  {
   "cell_type": "markdown",
   "id": "40be4247",
   "metadata": {},
   "source": [
    "Again here the 10 fold cross-validation does not improve the model. We can finally conclude that the naive bayes model performs better to predict music effects on mental health based on the 30 variables."
   ]
  }
 ],
 "metadata": {
  "kernelspec": {
   "display_name": "Python 3 (ipykernel)",
   "language": "python",
   "name": "python3"
  },
  "language_info": {
   "codemirror_mode": {
    "name": "ipython",
    "version": 3
   },
   "file_extension": ".py",
   "mimetype": "text/x-python",
   "name": "python",
   "nbconvert_exporter": "python",
   "pygments_lexer": "ipython3",
   "version": "3.11.3"
  }
 },
 "nbformat": 4,
 "nbformat_minor": 5
}
